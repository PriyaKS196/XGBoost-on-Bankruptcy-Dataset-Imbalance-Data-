{
 "cells": [
  {
   "cell_type": "markdown",
   "metadata": {},
   "source": [
    "### Import Data Analysis Libraries"
   ]
  },
  {
   "cell_type": "code",
   "execution_count": null,
   "metadata": {},
   "outputs": [],
   "source": [
    "import pandas as pd\n",
    "import numpy as np"
   ]
  },
  {
   "cell_type": "markdown",
   "metadata": {},
   "source": [
    "### Import Visualization Libraries"
   ]
  },
  {
   "cell_type": "code",
   "execution_count": null,
   "metadata": {},
   "outputs": [],
   "source": [
    "import matplotlib.pyplot as plt\n",
    "from sklearn.manifold import TSNE  # Helps visualize higher dimensions data\n",
    "import missingno as msno # Missing Data visualization\n",
    "import seaborn as sns\n",
    "sns.set(style=\"white\")\n",
    "%matplotlib inline"
   ]
  },
  {
   "cell_type": "markdown",
   "metadata": {},
   "source": [
    "### Import Sklean (Machine learning framework in Python)"
   ]
  },
  {
   "cell_type": "code",
   "execution_count": null,
   "metadata": {},
   "outputs": [],
   "source": [
    "from sklearn.preprocessing import StandardScaler, normalize  # Helps us in Standardizing the data\n",
    "from sklearn.metrics import precision_score, f1_score, recall_score, accuracy_score, average_precision_score # Evaluation\n",
    "                                                                                                             # metrics\n",
    "from sklearn.model_selection import train_test_split, GridSearchCV\n",
    "\n",
    "from sklearn.cluster import KMeans # Clustering\n",
    "from sklearn.linear_model import LogisticRegression\n",
    "from sklearn.ensemble import RandomForestClassifier, AdaBoostClassifier\n",
    "from xgboost import XGBClassifier\n",
    "from sklearn.svm import SVC\n",
    "from imblearn.over_sampling import SMOTE # Oversampling"
   ]
  },
  {
   "cell_type": "markdown",
   "metadata": {},
   "source": [
    "### Miscellaneous"
   ]
  },
  {
   "cell_type": "code",
   "execution_count": 90,
   "metadata": {
    "scrolled": true
   },
   "outputs": [],
   "source": [
    "import time\n",
    "from datetime import datetime\n",
    "import warnings\n",
    "with warnings.catch_warnings():\n",
    "    warnings.simplefilter(\"ignore\")"
   ]
  },
  {
   "cell_type": "markdown",
   "metadata": {},
   "source": [
    "### Import data"
   ]
  },
  {
   "cell_type": "code",
   "execution_count": 2,
   "metadata": {},
   "outputs": [],
   "source": [
    "df = pd.read_csv('train.csv')\n",
    "df.set_index('ID', inplace = True)"
   ]
  },
  {
   "cell_type": "code",
   "execution_count": 3,
   "metadata": {
    "scrolled": true
   },
   "outputs": [
    {
     "data": {
      "text/html": [
       "<div>\n",
       "<style>\n",
       "    .dataframe thead tr:only-child th {\n",
       "        text-align: right;\n",
       "    }\n",
       "\n",
       "    .dataframe thead th {\n",
       "        text-align: left;\n",
       "    }\n",
       "\n",
       "    .dataframe tbody tr th {\n",
       "        vertical-align: top;\n",
       "    }\n",
       "</style>\n",
       "<table border=\"1\" class=\"dataframe\">\n",
       "  <thead>\n",
       "    <tr style=\"text-align: right;\">\n",
       "      <th></th>\n",
       "      <th>Attr1</th>\n",
       "      <th>Attr2</th>\n",
       "      <th>Attr3</th>\n",
       "      <th>Attr4</th>\n",
       "      <th>Attr5</th>\n",
       "      <th>Attr6</th>\n",
       "      <th>Attr7</th>\n",
       "      <th>Attr8</th>\n",
       "      <th>Attr9</th>\n",
       "      <th>Attr10</th>\n",
       "      <th>...</th>\n",
       "      <th>Attr56</th>\n",
       "      <th>Attr57</th>\n",
       "      <th>Attr58</th>\n",
       "      <th>Attr59</th>\n",
       "      <th>Attr60</th>\n",
       "      <th>Attr61</th>\n",
       "      <th>Attr62</th>\n",
       "      <th>Attr63</th>\n",
       "      <th>Attr64</th>\n",
       "      <th>target</th>\n",
       "    </tr>\n",
       "    <tr>\n",
       "      <th>ID</th>\n",
       "      <th></th>\n",
       "      <th></th>\n",
       "      <th></th>\n",
       "      <th></th>\n",
       "      <th></th>\n",
       "      <th></th>\n",
       "      <th></th>\n",
       "      <th></th>\n",
       "      <th></th>\n",
       "      <th></th>\n",
       "      <th></th>\n",
       "      <th></th>\n",
       "      <th></th>\n",
       "      <th></th>\n",
       "      <th></th>\n",
       "      <th></th>\n",
       "      <th></th>\n",
       "      <th></th>\n",
       "      <th></th>\n",
       "      <th></th>\n",
       "      <th></th>\n",
       "    </tr>\n",
       "  </thead>\n",
       "  <tbody>\n",
       "    <tr>\n",
       "      <th>1</th>\n",
       "      <td>0.135370</td>\n",
       "      <td>0.45185</td>\n",
       "      <td>0.31162</td>\n",
       "      <td>2.0469</td>\n",
       "      <td>10.2340</td>\n",
       "      <td>0.16768</td>\n",
       "      <td>0.167630</td>\n",
       "      <td>1.21310</td>\n",
       "      <td>2.25540</td>\n",
       "      <td>0.54815</td>\n",
       "      <td>...</td>\n",
       "      <td>0.078728</td>\n",
       "      <td>0.24695</td>\n",
       "      <td>0.92586</td>\n",
       "      <td>0.18362</td>\n",
       "      <td>9.0895</td>\n",
       "      <td>8.8342</td>\n",
       "      <td>48.172</td>\n",
       "      <td>7.5770</td>\n",
       "      <td>5.7725</td>\n",
       "      <td>0</td>\n",
       "    </tr>\n",
       "    <tr>\n",
       "      <th>2</th>\n",
       "      <td>0.005861</td>\n",
       "      <td>0.39858</td>\n",
       "      <td>0.19768</td>\n",
       "      <td>1.9390</td>\n",
       "      <td>9.5771</td>\n",
       "      <td>0.00000</td>\n",
       "      <td>0.007237</td>\n",
       "      <td>1.50890</td>\n",
       "      <td>0.97880</td>\n",
       "      <td>0.60142</td>\n",
       "      <td>...</td>\n",
       "      <td>0.269720</td>\n",
       "      <td>0.00000</td>\n",
       "      <td>0.79303</td>\n",
       "      <td>0.31271</td>\n",
       "      <td>6.2213</td>\n",
       "      <td>4.2785</td>\n",
       "      <td>78.499</td>\n",
       "      <td>4.6497</td>\n",
       "      <td>1.6539</td>\n",
       "      <td>0</td>\n",
       "    </tr>\n",
       "    <tr>\n",
       "      <th>3</th>\n",
       "      <td>0.110600</td>\n",
       "      <td>0.16117</td>\n",
       "      <td>0.47894</td>\n",
       "      <td>7.5711</td>\n",
       "      <td>263.9000</td>\n",
       "      <td>0.00000</td>\n",
       "      <td>0.138360</td>\n",
       "      <td>5.20450</td>\n",
       "      <td>0.68447</td>\n",
       "      <td>0.83883</td>\n",
       "      <td>...</td>\n",
       "      <td>0.159870</td>\n",
       "      <td>0.13185</td>\n",
       "      <td>0.80748</td>\n",
       "      <td>0.10234</td>\n",
       "      <td>9.4499</td>\n",
       "      <td>3.3443</td>\n",
       "      <td>38.867</td>\n",
       "      <td>9.3910</td>\n",
       "      <td>1.5272</td>\n",
       "      <td>0</td>\n",
       "    </tr>\n",
       "    <tr>\n",
       "      <th>4</th>\n",
       "      <td>0.063911</td>\n",
       "      <td>1.40730</td>\n",
       "      <td>-0.29595</td>\n",
       "      <td>0.5291</td>\n",
       "      <td>-46.2870</td>\n",
       "      <td>-0.71420</td>\n",
       "      <td>0.079071</td>\n",
       "      <td>-0.33076</td>\n",
       "      <td>0.98490</td>\n",
       "      <td>-0.46548</td>\n",
       "      <td>...</td>\n",
       "      <td>-0.015327</td>\n",
       "      <td>-0.13730</td>\n",
       "      <td>1.01530</td>\n",
       "      <td>-1.67320</td>\n",
       "      <td>29.2710</td>\n",
       "      <td>14.1410</td>\n",
       "      <td>73.458</td>\n",
       "      <td>4.9688</td>\n",
       "      <td>4.6785</td>\n",
       "      <td>0</td>\n",
       "    </tr>\n",
       "    <tr>\n",
       "      <th>5</th>\n",
       "      <td>0.131680</td>\n",
       "      <td>0.66031</td>\n",
       "      <td>0.44121</td>\n",
       "      <td>2.7098</td>\n",
       "      <td>-23.5960</td>\n",
       "      <td>-0.20007</td>\n",
       "      <td>0.131910</td>\n",
       "      <td>0.51445</td>\n",
       "      <td>2.13570</td>\n",
       "      <td>0.33969</td>\n",
       "      <td>...</td>\n",
       "      <td>0.110170</td>\n",
       "      <td>0.38764</td>\n",
       "      <td>0.93881</td>\n",
       "      <td>1.18420</td>\n",
       "      <td>4.5462</td>\n",
       "      <td>15.1400</td>\n",
       "      <td>44.101</td>\n",
       "      <td>8.2764</td>\n",
       "      <td>7.1014</td>\n",
       "      <td>0</td>\n",
       "    </tr>\n",
       "  </tbody>\n",
       "</table>\n",
       "<p>5 rows × 65 columns</p>\n",
       "</div>"
      ],
      "text/plain": [
       "       Attr1    Attr2    Attr3   Attr4     Attr5    Attr6     Attr7    Attr8  \\\n",
       "ID                                                                             \n",
       "1   0.135370  0.45185  0.31162  2.0469   10.2340  0.16768  0.167630  1.21310   \n",
       "2   0.005861  0.39858  0.19768  1.9390    9.5771  0.00000  0.007237  1.50890   \n",
       "3   0.110600  0.16117  0.47894  7.5711  263.9000  0.00000  0.138360  5.20450   \n",
       "4   0.063911  1.40730 -0.29595  0.5291  -46.2870 -0.71420  0.079071 -0.33076   \n",
       "5   0.131680  0.66031  0.44121  2.7098  -23.5960 -0.20007  0.131910  0.51445   \n",
       "\n",
       "      Attr9   Attr10   ...      Attr56   Attr57   Attr58   Attr59   Attr60  \\\n",
       "ID                     ...                                                   \n",
       "1   2.25540  0.54815   ...    0.078728  0.24695  0.92586  0.18362   9.0895   \n",
       "2   0.97880  0.60142   ...    0.269720  0.00000  0.79303  0.31271   6.2213   \n",
       "3   0.68447  0.83883   ...    0.159870  0.13185  0.80748  0.10234   9.4499   \n",
       "4   0.98490 -0.46548   ...   -0.015327 -0.13730  1.01530 -1.67320  29.2710   \n",
       "5   2.13570  0.33969   ...    0.110170  0.38764  0.93881  1.18420   4.5462   \n",
       "\n",
       "     Attr61  Attr62  Attr63  Attr64  target  \n",
       "ID                                           \n",
       "1    8.8342  48.172  7.5770  5.7725       0  \n",
       "2    4.2785  78.499  4.6497  1.6539       0  \n",
       "3    3.3443  38.867  9.3910  1.5272       0  \n",
       "4   14.1410  73.458  4.9688  4.6785       0  \n",
       "5   15.1400  44.101  8.2764  7.1014       0  \n",
       "\n",
       "[5 rows x 65 columns]"
      ]
     },
     "execution_count": 3,
     "metadata": {},
     "output_type": "execute_result"
    }
   ],
   "source": [
    "df.head()"
   ]
  },
  {
   "cell_type": "code",
   "execution_count": 4,
   "metadata": {},
   "outputs": [
    {
     "name": "stdout",
     "output_type": "stream",
     "text": [
      "(36553, 65)\n",
      "0    34788\n",
      "1     1765\n",
      "Name: target, dtype: int64\n"
     ]
    }
   ],
   "source": [
    "print df.shape\n",
    "print df['target'].value_counts()"
   ]
  },
  {
   "cell_type": "code",
   "execution_count": 5,
   "metadata": {
    "scrolled": true
   },
   "outputs": [
    {
     "data": {
      "text/plain": [
       "<matplotlib.axes._subplots.AxesSubplot at 0x19dd2cc0>"
      ]
     },
     "execution_count": 5,
     "metadata": {},
     "output_type": "execute_result"
    },
    {
     "data": {
      "image/png": "[encoded data removed]",
      "text/plain": [
       "<Figure size 432x288 with 1 Axes>"
      ]
     },
     "metadata": {},
     "output_type": "display_data"
    }
   ],
   "source": [
    "sns.countplot(x='target', data=df)"
   ]
  },
  {
   "cell_type": "markdown",
   "metadata": {},
   "source": [
    "Sumamry - Data is higly imbalance Data"
   ]
  },
  {
   "cell_type": "code",
   "execution_count": 6,
   "metadata": {},
   "outputs": [],
   "source": [
    "X_df = df.drop('target', axis = 1)\n",
    "Y_df = df['target']"
   ]
  },
  {
   "cell_type": "markdown",
   "metadata": {},
   "source": [
    "### Missing Values Imputation"
   ]
  },
  {
   "cell_type": "code",
   "execution_count": 7,
   "metadata": {
    "scrolled": false
   },
   "outputs": [
    {
     "data": {
      "text/plain": [
       "<matplotlib.axes._subplots.AxesSubplot at 0x1f24a0b8>"
      ]
     },
     "execution_count": 7,
     "metadata": {},
     "output_type": "execute_result"
    },
    {
     "data": {
      "text/plain": [
       "<Figure size 1152x432 with 0 Axes>"
      ]
     },
     "metadata": {},
     "output_type": "display_data"
    },
    {
     "data": {
      "image/png": "[encoded data removed]",
      "text/plain": [
       "<Figure size 1800x720 with 2 Axes>"
      ]
     },
     "metadata": {},
     "output_type": "display_data"
    }
   ],
   "source": [
    "plt.figure(figsize=(16,6))\n",
    "msno.matrix(X_df,labels = True, color=(0.20,0.15,0.45))"
   ]
  },
  {
   "cell_type": "markdown",
   "metadata": {},
   "source": [
    "#### Central Imputation"
   ]
  },
  {
   "cell_type": "code",
   "execution_count": 8,
   "metadata": {},
   "outputs": [
    {
     "data": {
      "text/plain": [
       "35187L"
      ]
     },
     "execution_count": 8,
     "metadata": {},
     "output_type": "execute_result"
    }
   ],
   "source": [
    "X_df.isnull().sum().sum()"
   ]
  },
  {
   "cell_type": "markdown",
   "metadata": {},
   "source": [
    "There are a lot many 0s in the data. Train data seems already standardized or may be the columns are principal components\n",
    "Lets Impute this 0s along with NA values"
   ]
  },
  {
   "cell_type": "code",
   "execution_count": 9,
   "metadata": {},
   "outputs": [],
   "source": [
    "X_df = X_df.replace({0:np.nan})"
   ]
  },
  {
   "cell_type": "code",
   "execution_count": 10,
   "metadata": {},
   "outputs": [
    {
     "data": {
      "text/plain": [
       "84376L"
      ]
     },
     "execution_count": 10,
     "metadata": {},
     "output_type": "execute_result"
    }
   ],
   "source": [
    "X_df.isnull().sum().sum()"
   ]
  },
  {
   "cell_type": "code",
   "execution_count": 11,
   "metadata": {},
   "outputs": [],
   "source": [
    "X_df = X_df.fillna(X_df.median()) # Using Median as Imputation as there are many Outliers"
   ]
  },
  {
   "cell_type": "code",
   "execution_count": 12,
   "metadata": {},
   "outputs": [
    {
     "data": {
      "text/plain": [
       "0L"
      ]
     },
     "execution_count": 12,
     "metadata": {},
     "output_type": "execute_result"
    }
   ],
   "source": [
    "X_df.isnull().sum().sum()"
   ]
  },
  {
   "cell_type": "code",
   "execution_count": 13,
   "metadata": {},
   "outputs": [
    {
     "data": {
      "text/plain": [
       "<matplotlib.axes._subplots.AxesSubplot at 0x1eb6c198>"
      ]
     },
     "execution_count": 13,
     "metadata": {},
     "output_type": "execute_result"
    },
    {
     "data": {
      "text/plain": [
       "<Figure size 1152x432 with 0 Axes>"
      ]
     },
     "metadata": {},
     "output_type": "display_data"
    },
    {
     "data": {
      "image/png": "[encoded data removed]",
      "text/plain": [
       "<Figure size 1800x720 with 2 Axes>"
      ]
     },
     "metadata": {},
     "output_type": "display_data"
    }
   ],
   "source": [
    "#Recheck missing values after Imputation\n",
    "plt.figure(figsize=(16,6))\n",
    "msno.matrix(X_df,labels = True, color=(0.20,0.15,0.45))"
   ]
  },
  {
   "cell_type": "markdown",
   "metadata": {},
   "source": [
    "### Lets draw heatmap to check multi collinearity"
   ]
  },
  {
   "cell_type": "code",
   "execution_count": 14,
   "metadata": {},
   "outputs": [
    {
     "data": {
      "text/plain": [
       "<matplotlib.axes._subplots.AxesSubplot at 0x20b11f28>"
      ]
     },
     "execution_count": 14,
     "metadata": {},
     "output_type": "execute_result"
    },
    {
     "data": {
      "image/png": "[encoded data removed]",
      "text/plain": [
       "<Figure size 1152x864 with 2 Axes>"
      ]
     },
     "metadata": {},
     "output_type": "display_data"
    }
   ],
   "source": [
    "fig, ax = plt.subplots(figsize=(16,12)) \n",
    "corr = X_df.corr()\n",
    "\n",
    "mask = np.zeros_like(corr, dtype=np.bool)\n",
    "mask[np.triu_indices_from(mask)] = True\n",
    "\n",
    " \n",
    "sns.heatmap(corr, mask=mask,\n",
    "            square=False, linewidths=.5, cbar_kws={\"shrink\": .5})"
   ]
  },
  {
   "cell_type": "code",
   "execution_count": 15,
   "metadata": {},
   "outputs": [],
   "source": [
    "# A condition to filter all the columns where collinearity with other columns is greater than 0.2 and less than 1.0\n",
    "high_corr_attr = corr[(corr>0.2) & (corr<1)].count().sort_values(ascending= False)"
   ]
  },
  {
   "cell_type": "code",
   "execution_count": 18,
   "metadata": {},
   "outputs": [],
   "source": [
    "#There are  31 columns which has correlation of more than 0.2\n",
    "cols_to_be_dropped = list(high_corr_attr[high_corr_attr > 5].index)"
   ]
  },
  {
   "cell_type": "code",
   "execution_count": 19,
   "metadata": {},
   "outputs": [
    {
     "data": {
      "text/plain": [
       "31"
      ]
     },
     "execution_count": 19,
     "metadata": {},
     "output_type": "execute_result"
    }
   ],
   "source": [
    "len(cols_to_be_dropped)"
   ]
  },
  {
   "cell_type": "code",
   "execution_count": 20,
   "metadata": {
    "scrolled": false
   },
   "outputs": [],
   "source": [
    "X_df.drop(cols_to_be_dropped, axis = 1, inplace= True) # Dropping columns"
   ]
  },
  {
   "cell_type": "code",
   "execution_count": 21,
   "metadata": {},
   "outputs": [
    {
     "data": {
      "text/plain": [
       "(36553, 33)"
      ]
     },
     "execution_count": 21,
     "metadata": {},
     "output_type": "execute_result"
    }
   ],
   "source": [
    "X_df.shape"
   ]
  },
  {
   "cell_type": "code",
   "execution_count": 22,
   "metadata": {},
   "outputs": [
    {
     "data": {
      "text/plain": [
       "(array([ 0.5,  1.5,  2.5,  3.5,  4.5,  5.5,  6.5,  7.5,  8.5,  9.5, 10.5,\n",
       "        11.5, 12.5, 13.5, 14.5, 15.5, 16.5, 17.5, 18.5, 19.5, 20.5, 21.5,\n",
       "        22.5, 23.5, 24.5, 25.5, 26.5, 27.5, 28.5, 29.5, 30.5, 31.5, 32.5]),\n",
       " <a list of 33 Text xticklabel objects>)"
      ]
     },
     "execution_count": 22,
     "metadata": {},
     "output_type": "execute_result"
    },
    {
     "data": {
      "image/png": "[encoded data removed]",
      "text/plain": [
       "<Figure size 1152x864 with 2 Axes>"
      ]
     },
     "metadata": {},
     "output_type": "display_data"
    }
   ],
   "source": [
    "# Lets check the heatmap again\n",
    "fig, ax = plt.subplots(figsize=(16,12)) \n",
    "corr = X_df.corr()\n",
    "\n",
    "mask = np.zeros_like(corr, dtype=np.bool)\n",
    "mask[np.triu_indices_from(mask)] = True\n",
    "\n",
    " \n",
    "sns.heatmap(corr, mask=mask,\n",
    "            square=False, linewidths=.5, cbar_kws={\"shrink\": .5})\n",
    "plt.xticks(rotation=90)"
   ]
  },
  {
   "cell_type": "code",
   "execution_count": 23,
   "metadata": {},
   "outputs": [
    {
     "data": {
      "text/html": [
       "<div>\n",
       "<style>\n",
       "    .dataframe thead tr:only-child th {\n",
       "        text-align: right;\n",
       "    }\n",
       "\n",
       "    .dataframe thead th {\n",
       "        text-align: left;\n",
       "    }\n",
       "\n",
       "    .dataframe tbody tr th {\n",
       "        vertical-align: top;\n",
       "    }\n",
       "</style>\n",
       "<table border=\"1\" class=\"dataframe\">\n",
       "  <thead>\n",
       "    <tr style=\"text-align: right;\">\n",
       "      <th></th>\n",
       "      <th>Attr1</th>\n",
       "      <th>Attr2</th>\n",
       "      <th>Attr3</th>\n",
       "      <th>Attr4</th>\n",
       "      <th>Attr5</th>\n",
       "      <th>Attr6</th>\n",
       "      <th>Attr12</th>\n",
       "      <th>Attr15</th>\n",
       "      <th>Attr21</th>\n",
       "      <th>Attr26</th>\n",
       "      <th>...</th>\n",
       "      <th>Attr51</th>\n",
       "      <th>Attr52</th>\n",
       "      <th>Attr53</th>\n",
       "      <th>Attr54</th>\n",
       "      <th>Attr55</th>\n",
       "      <th>Attr56</th>\n",
       "      <th>Attr57</th>\n",
       "      <th>Attr59</th>\n",
       "      <th>Attr60</th>\n",
       "      <th>Attr61</th>\n",
       "    </tr>\n",
       "    <tr>\n",
       "      <th>ID</th>\n",
       "      <th></th>\n",
       "      <th></th>\n",
       "      <th></th>\n",
       "      <th></th>\n",
       "      <th></th>\n",
       "      <th></th>\n",
       "      <th></th>\n",
       "      <th></th>\n",
       "      <th></th>\n",
       "      <th></th>\n",
       "      <th></th>\n",
       "      <th></th>\n",
       "      <th></th>\n",
       "      <th></th>\n",
       "      <th></th>\n",
       "      <th></th>\n",
       "      <th></th>\n",
       "      <th></th>\n",
       "      <th></th>\n",
       "      <th></th>\n",
       "      <th></th>\n",
       "    </tr>\n",
       "  </thead>\n",
       "  <tbody>\n",
       "    <tr>\n",
       "      <th>1</th>\n",
       "      <td>0.135370</td>\n",
       "      <td>0.45185</td>\n",
       "      <td>0.31162</td>\n",
       "      <td>2.0469</td>\n",
       "      <td>10.2340</td>\n",
       "      <td>0.167680</td>\n",
       "      <td>0.56316</td>\n",
       "      <td>819.60</td>\n",
       "      <td>1.04560</td>\n",
       "      <td>0.373930</td>\n",
       "      <td>...</td>\n",
       "      <td>0.297670</td>\n",
       "      <td>0.14326</td>\n",
       "      <td>1.40290</td>\n",
       "      <td>1.66060</td>\n",
       "      <td>1189.700</td>\n",
       "      <td>0.078728</td>\n",
       "      <td>0.24695</td>\n",
       "      <td>0.18362</td>\n",
       "      <td>9.0895</td>\n",
       "      <td>8.8342</td>\n",
       "    </tr>\n",
       "    <tr>\n",
       "      <th>2</th>\n",
       "      <td>0.005861</td>\n",
       "      <td>0.39858</td>\n",
       "      <td>0.19768</td>\n",
       "      <td>1.9390</td>\n",
       "      <td>9.5771</td>\n",
       "      <td>0.044573</td>\n",
       "      <td>0.03438</td>\n",
       "      <td>4087.60</td>\n",
       "      <td>0.97850</td>\n",
       "      <td>0.085842</td>\n",
       "      <td>...</td>\n",
       "      <td>0.210510</td>\n",
       "      <td>0.27083</td>\n",
       "      <td>1.01620</td>\n",
       "      <td>1.33400</td>\n",
       "      <td>1.939</td>\n",
       "      <td>0.269720</td>\n",
       "      <td>0.12332</td>\n",
       "      <td>0.31271</td>\n",
       "      <td>6.2213</td>\n",
       "      <td>4.2785</td>\n",
       "    </tr>\n",
       "    <tr>\n",
       "      <th>3</th>\n",
       "      <td>0.110600</td>\n",
       "      <td>0.16117</td>\n",
       "      <td>0.47894</td>\n",
       "      <td>7.5711</td>\n",
       "      <td>263.9000</td>\n",
       "      <td>0.044573</td>\n",
       "      <td>1.89830</td>\n",
       "      <td>363.85</td>\n",
       "      <td>1.83520</td>\n",
       "      <td>0.830940</td>\n",
       "      <td>...</td>\n",
       "      <td>0.072886</td>\n",
       "      <td>0.12675</td>\n",
       "      <td>1.87160</td>\n",
       "      <td>2.06320</td>\n",
       "      <td>6092.300</td>\n",
       "      <td>0.159870</td>\n",
       "      <td>0.13185</td>\n",
       "      <td>0.10234</td>\n",
       "      <td>9.4499</td>\n",
       "      <td>3.3443</td>\n",
       "    </tr>\n",
       "    <tr>\n",
       "      <th>4</th>\n",
       "      <td>0.063911</td>\n",
       "      <td>1.40730</td>\n",
       "      <td>-0.29595</td>\n",
       "      <td>0.5291</td>\n",
       "      <td>-46.2870</td>\n",
       "      <td>-0.714200</td>\n",
       "      <td>0.12581</td>\n",
       "      <td>5433.40</td>\n",
       "      <td>0.44909</td>\n",
       "      <td>0.056405</td>\n",
       "      <td>...</td>\n",
       "      <td>0.628480</td>\n",
       "      <td>0.19822</td>\n",
       "      <td>-0.69738</td>\n",
       "      <td>0.46946</td>\n",
       "      <td>-13606.000</td>\n",
       "      <td>-0.015327</td>\n",
       "      <td>-0.13730</td>\n",
       "      <td>-1.67320</td>\n",
       "      <td>29.2710</td>\n",
       "      <td>14.1410</td>\n",
       "    </tr>\n",
       "    <tr>\n",
       "      <th>5</th>\n",
       "      <td>0.131680</td>\n",
       "      <td>0.66031</td>\n",
       "      <td>0.44121</td>\n",
       "      <td>2.7098</td>\n",
       "      <td>-23.5960</td>\n",
       "      <td>-0.200070</td>\n",
       "      <td>0.51117</td>\n",
       "      <td>675.35</td>\n",
       "      <td>1.06000</td>\n",
       "      <td>0.540110</td>\n",
       "      <td>...</td>\n",
       "      <td>0.258050</td>\n",
       "      <td>0.13579</td>\n",
       "      <td>1.12950</td>\n",
       "      <td>2.46710</td>\n",
       "      <td>75.681</td>\n",
       "      <td>0.110170</td>\n",
       "      <td>0.38764</td>\n",
       "      <td>1.18420</td>\n",
       "      <td>4.5462</td>\n",
       "      <td>15.1400</td>\n",
       "    </tr>\n",
       "  </tbody>\n",
       "</table>\n",
       "<p>5 rows × 33 columns</p>\n",
       "</div>"
      ],
      "text/plain": [
       "       Attr1    Attr2    Attr3   Attr4     Attr5     Attr6   Attr12   Attr15  \\\n",
       "ID                                                                             \n",
       "1   0.135370  0.45185  0.31162  2.0469   10.2340  0.167680  0.56316   819.60   \n",
       "2   0.005861  0.39858  0.19768  1.9390    9.5771  0.044573  0.03438  4087.60   \n",
       "3   0.110600  0.16117  0.47894  7.5711  263.9000  0.044573  1.89830   363.85   \n",
       "4   0.063911  1.40730 -0.29595  0.5291  -46.2870 -0.714200  0.12581  5433.40   \n",
       "5   0.131680  0.66031  0.44121  2.7098  -23.5960 -0.200070  0.51117   675.35   \n",
       "\n",
       "     Attr21    Attr26   ...       Attr51   Attr52   Attr53   Attr54  \\\n",
       "ID                      ...                                           \n",
       "1   1.04560  0.373930   ...     0.297670  0.14326  1.40290  1.66060   \n",
       "2   0.97850  0.085842   ...     0.210510  0.27083  1.01620  1.33400   \n",
       "3   1.83520  0.830940   ...     0.072886  0.12675  1.87160  2.06320   \n",
       "4   0.44909  0.056405   ...     0.628480  0.19822 -0.69738  0.46946   \n",
       "5   1.06000  0.540110   ...     0.258050  0.13579  1.12950  2.46710   \n",
       "\n",
       "       Attr55    Attr56   Attr57   Attr59   Attr60   Attr61  \n",
       "ID                                                           \n",
       "1    1189.700  0.078728  0.24695  0.18362   9.0895   8.8342  \n",
       "2       1.939  0.269720  0.12332  0.31271   6.2213   4.2785  \n",
       "3    6092.300  0.159870  0.13185  0.10234   9.4499   3.3443  \n",
       "4  -13606.000 -0.015327 -0.13730 -1.67320  29.2710  14.1410  \n",
       "5      75.681  0.110170  0.38764  1.18420   4.5462  15.1400  \n",
       "\n",
       "[5 rows x 33 columns]"
      ]
     },
     "execution_count": 23,
     "metadata": {},
     "output_type": "execute_result"
    }
   ],
   "source": [
    "X_df.head()"
   ]
  },
  {
   "cell_type": "markdown",
   "metadata": {},
   "source": [
    "Their seems a lot of outliers which spans even 50-60 Standard Deviations from the mean. However removing outliers is sometimes not a good idea unless one has Domain expertise\n",
    "\n",
    "#### Lets try clustering and see if we can get any insigt from that. We shall use Kmeans Clustering "
   ]
  },
  {
   "cell_type": "markdown",
   "metadata": {},
   "source": [
    "#### Lets work towards elbow method to determine optimum number of clusters"
   ]
  },
  {
   "cell_type": "code",
   "execution_count": 24,
   "metadata": {},
   "outputs": [],
   "source": [
    "variance = []\n",
    "for k in range(1, 20):\n",
    "    km = KMeans(n_clusters=k)\n",
    "    km.fit(X_df.values)\n",
    "    variance.append(km.inertia_)\n"
   ]
  },
  {
   "cell_type": "markdown",
   "metadata": {},
   "source": [
    "#### Lets plot Elbow"
   ]
  },
  {
   "cell_type": "code",
   "execution_count": 25,
   "metadata": {},
   "outputs": [
    {
     "data": {
      "text/plain": [
       "Text(0.5,1,'Elbow')"
      ]
     },
     "execution_count": 25,
     "metadata": {},
     "output_type": "execute_result"
    },
    {
     "data": {
      "image/png": "[encoded data removed]",
      "text/plain": [
       "<Figure size 1296x432 with 1 Axes>"
      ]
     },
     "metadata": {},
     "output_type": "display_data"
    }
   ],
   "source": [
    "plt.figure(figsize = (18,6))\n",
    "plt.plot(range(1, 20), variance, marker='o')\n",
    "plt.grid()\n",
    "plt.xlabel('Number of clusters')\n",
    "plt.ylabel('Variance')\n",
    "plt.title('Elbow')"
   ]
  },
  {
   "cell_type": "markdown",
   "metadata": {},
   "source": [
    "Summary- The data is varied with a lot of entities spread over the feature space. \n",
    "Maybe 10ish is the Cluster number\n",
    "\n",
    "So we have data that might belong to more than 2 classes, because at cluster = 2, variance seems a bit off "
   ]
  },
  {
   "cell_type": "markdown",
   "metadata": {},
   "source": [
    "Lets move on to Supervised Learning and start building some models"
   ]
  },
  {
   "cell_type": "markdown",
   "metadata": {},
   "source": [
    "### Train test Split"
   ]
  },
  {
   "cell_type": "code",
   "execution_count": 26,
   "metadata": {},
   "outputs": [
    {
     "name": "stdout",
     "output_type": "stream",
     "text": [
      "(36553L, 33L)\n",
      "(36553L,)\n"
     ]
    }
   ],
   "source": [
    "X = X_df.values\n",
    "Y = Y_df.values\n",
    "\n",
    "print X.shape\n",
    "print Y.shape"
   ]
  },
  {
   "cell_type": "code",
   "execution_count": 27,
   "metadata": {},
   "outputs": [],
   "source": [
    "X_train, X_val, Y_train, Y_val = train_test_split(X,Y, test_size=0.25, random_state=42)"
   ]
  },
  {
   "cell_type": "code",
   "execution_count": 29,
   "metadata": {},
   "outputs": [
    {
     "name": "stdout",
     "output_type": "stream",
     "text": [
      "(27414L, 33L)\n",
      "(27414L,)\n"
     ]
    }
   ],
   "source": [
    "print X_train.shape\n",
    "print Y_train.shape"
   ]
  },
  {
   "cell_type": "code",
   "execution_count": 30,
   "metadata": {},
   "outputs": [
    {
     "name": "stdout",
     "output_type": "stream",
     "text": [
      "(9139L, 33L)\n",
      "(9139L,)\n"
     ]
    }
   ],
   "source": [
    "print X_val.shape\n",
    "print Y_val.shape"
   ]
  },
  {
   "cell_type": "markdown",
   "metadata": {},
   "source": [
    "### Resampling of data using SMOTE Technique\n",
    "As we saw earlier this is a high imbalance data. By doing some oversampling we can add new rows to our data with target as minority class (In this case 1)\n",
    "\n",
    "Data Imbalances happen for a reason. The reason - <b> rare occuring events </b>. Some events have rare occurences but when they do they have huge impact.\n",
    "Something like cancer, meteor falling on Earth and killing Dinosaurs or Mortgage backed Security crisis of 2008, or something like Bankruptcy. So one has to take care of using an optimal ratio of while smoting. One shouldnot use a high ratio as these occurences are rare. "
   ]
  },
  {
   "cell_type": "code",
   "execution_count": 31,
   "metadata": {},
   "outputs": [
    {
     "name": "stdout",
     "output_type": "stream",
     "text": [
      "The Imbalance is: 4.89166119501\n"
     ]
    }
   ],
   "source": [
    "# Lets check the imbalance first\n",
    "print 'The Imbalance is: {}'.format(np.unique(Y_train, return_counts=True)[1][1] / \n",
    "                                    (float(np.unique(Y_train, return_counts=True)[1][0]) + \n",
    "                                    np.unique(Y_train, return_counts=True)[1][1])*100)"
   ]
  },
  {
   "cell_type": "code",
   "execution_count": 32,
   "metadata": {},
   "outputs": [],
   "source": [
    "sm = SMOTE(ratio={1:1965},kind='borderline1',random_state=42) # lets reduce the imbalance \n",
    "\n",
    "X_res, Y_res = sm.fit_sample(X_train, Y_train)"
   ]
  },
  {
   "cell_type": "code",
   "execution_count": 33,
   "metadata": {},
   "outputs": [
    {
     "name": "stdout",
     "output_type": "stream",
     "text": [
      "(28038L, 33L)\n",
      "(28038L,)\n"
     ]
    }
   ],
   "source": [
    "print X_res.shape\n",
    "print Y_res.shape"
   ]
  },
  {
   "cell_type": "code",
   "execution_count": 34,
   "metadata": {},
   "outputs": [
    {
     "name": "stdout",
     "output_type": "stream",
     "text": [
      "The Imbalance is reduced now and stands at: 7.00834581639\n"
     ]
    }
   ],
   "source": [
    "# Lets check the imbalance first\n",
    "print 'The Imbalance is reduced now and stands at: {}'.format(np.unique(Y_res, return_counts=True)[1][1] / \n",
    "                                    (float(np.unique(Y_res, return_counts=True)[1][0]) + \n",
    "                                    np.unique(Y_res, return_counts=True)[1][1])*100)"
   ]
  },
  {
   "cell_type": "markdown",
   "metadata": {},
   "source": []
  },
  {
   "cell_type": "markdown",
   "metadata": {},
   "source": [
    "### Lets apply different machine learning models\n",
    "\n",
    "1. Logistic Regression\n",
    "2. SVM\n",
    "3. Random Forests\n",
    "4. AdaBoost\n",
    "5. XGBoost"
   ]
  },
  {
   "cell_type": "markdown",
   "metadata": {},
   "source": [
    "#### Creating Instances"
   ]
  },
  {
   "cell_type": "code",
   "execution_count": 35,
   "metadata": {},
   "outputs": [],
   "source": [
    "# Lets stick to default Hyperparametrs as of now. We shall tune the best model\n",
    "log_reg = LogisticRegression(random_state= 42)\n",
    "svc = SVC(random_state= 42)\n",
    "rf = RandomForestClassifier(random_state= 42)\n",
    "ada = AdaBoostClassifier(random_state= 42)\n",
    "xgb = XGBClassifier(random_state= 42)"
   ]
  },
  {
   "cell_type": "markdown",
   "metadata": {},
   "source": [
    "A small function that loops through the instances above and stores evaluation metrics of each classifier in a dictionary"
   ]
  },
  {
   "cell_type": "code",
   "execution_count": 36,
   "metadata": {},
   "outputs": [],
   "source": [
    "\n",
    "def training_predict(trainer, X_train, Y_train, X_test, Y_test):\n",
    "    scores = {} # Initializing a Dictionary to store evaluation metrics\n",
    "    \n",
    "    trainer.fit(X_train, Y_train)  # Training\n",
    "    Y_pred = trainer.predict(X_test) # Predicts\n",
    "    \n",
    "    '''\n",
    "    Stores the result of trainer in its individual Key\n",
    "    '''\n",
    "    scores['Accuracy_test'] = accuracy_score(Y_test , Y_pred)  \n",
    "    \n",
    "    scores['Recall_test'] = recall_score(Y_test , Y_pred)\n",
    "    \n",
    "    scores['Precision_test'] = precision_score(Y_test , Y_pred)\n",
    "    \n",
    "    scores['F1_Score_test'] = f1_score(Y_test , Y_pred)\n",
    "    \n",
    "    \n",
    "    return scores\n"
   ]
  },
  {
   "cell_type": "code",
   "execution_count": 37,
   "metadata": {},
   "outputs": [
    {
     "name": "stdout",
     "output_type": "stream",
     "text": [
      "(28038L, 33L)\n",
      "(28038L,)\n",
      "\n",
      "\n",
      "(9139L, 33L)\n",
      "(9139L,)\n"
     ]
    }
   ],
   "source": [
    "print X_res.shape\n",
    "print Y_res.shape\n",
    "print '\\n'\n",
    "print X_val.shape\n",
    "print Y_val.shape"
   ]
  },
  {
   "cell_type": "code",
   "execution_count": 39,
   "metadata": {},
   "outputs": [],
   "source": [
    "# __class__.__name__ is a nice attribute to get the Algorithm Name\n",
    "# log_reg.__class__.__name__\n",
    "# Output = 'LogisticRegression'"
   ]
  },
  {
   "cell_type": "code",
   "execution_count": 40,
   "metadata": {},
   "outputs": [
    {
     "name": "stderr",
     "output_type": "stream",
     "text": [
      "C:\\Users\\Python\\AppData\\Local\\Continuum\\Anaconda2\\lib\\site-packages\\sklearn\\preprocessing\\label.py:151: DeprecationWarning: The truth value of an empty array is ambiguous. Returning False, but in future this will result in an error. Use `array.size > 0` to check that an array is not empty.\n",
      "  if diff:\n"
     ]
    }
   ],
   "source": [
    "# Ignore the error\n",
    "predictors = {} # Initializing a dictionary to store training and testing data\n",
    "for model in [log_reg, svc, rf, ada, xgb]: # these are our objects that we instantiated above. We loop through them\n",
    "    model_name = model.__class__.__name__\n",
    "    predictors[model_name]  = {}\n",
    "    predictors[model_name] =  training_predict(model, X_res, Y_res, X_val, Y_val) #Scores that is returned from trainer goes to\n",
    "                                                                             # the respective predictor\n",
    "    "
   ]
  },
  {
   "cell_type": "code",
   "execution_count": 42,
   "metadata": {},
   "outputs": [
    {
     "data": {
      "text/html": [
       "<div>\n",
       "<style>\n",
       "    .dataframe thead tr:only-child th {\n",
       "        text-align: right;\n",
       "    }\n",
       "\n",
       "    .dataframe thead th {\n",
       "        text-align: left;\n",
       "    }\n",
       "\n",
       "    .dataframe tbody tr th {\n",
       "        vertical-align: top;\n",
       "    }\n",
       "</style>\n",
       "<table border=\"1\" class=\"dataframe\">\n",
       "  <thead>\n",
       "    <tr style=\"text-align: right;\">\n",
       "      <th></th>\n",
       "      <th>Accuracy_test</th>\n",
       "      <th>F1_Score_test</th>\n",
       "      <th>Precision_test</th>\n",
       "      <th>Recall_test</th>\n",
       "    </tr>\n",
       "  </thead>\n",
       "  <tbody>\n",
       "    <tr>\n",
       "      <th>AdaBoostClassifier</th>\n",
       "      <td>0.954481</td>\n",
       "      <td>0.257143</td>\n",
       "      <td>0.529412</td>\n",
       "      <td>0.169811</td>\n",
       "    </tr>\n",
       "    <tr>\n",
       "      <th>LogisticRegression</th>\n",
       "      <td>0.947916</td>\n",
       "      <td>0.008333</td>\n",
       "      <td>0.035714</td>\n",
       "      <td>0.004717</td>\n",
       "    </tr>\n",
       "    <tr>\n",
       "      <th>RandomForestClassifier</th>\n",
       "      <td>0.957982</td>\n",
       "      <td>0.286245</td>\n",
       "      <td>0.675439</td>\n",
       "      <td>0.181604</td>\n",
       "    </tr>\n",
       "    <tr>\n",
       "      <th>SVC</th>\n",
       "      <td>0.950651</td>\n",
       "      <td>0.000000</td>\n",
       "      <td>0.000000</td>\n",
       "      <td>0.000000</td>\n",
       "    </tr>\n",
       "    <tr>\n",
       "      <th>XGBClassifier</th>\n",
       "      <td>0.961812</td>\n",
       "      <td>0.350093</td>\n",
       "      <td>0.831858</td>\n",
       "      <td>0.221698</td>\n",
       "    </tr>\n",
       "  </tbody>\n",
       "</table>\n",
       "</div>"
      ],
      "text/plain": [
       "                        Accuracy_test  F1_Score_test  Precision_test  \\\n",
       "AdaBoostClassifier           0.954481       0.257143        0.529412   \n",
       "LogisticRegression           0.947916       0.008333        0.035714   \n",
       "RandomForestClassifier       0.957982       0.286245        0.675439   \n",
       "SVC                          0.950651       0.000000        0.000000   \n",
       "XGBClassifier                0.961812       0.350093        0.831858   \n",
       "\n",
       "                        Recall_test  \n",
       "AdaBoostClassifier         0.169811  \n",
       "LogisticRegression         0.004717  \n",
       "RandomForestClassifier     0.181604  \n",
       "SVC                        0.000000  \n",
       "XGBClassifier              0.221698  "
      ]
     },
     "execution_count": 42,
     "metadata": {},
     "output_type": "execute_result"
    }
   ],
   "source": [
    "pd.DataFrame(predictors).T"
   ]
  },
  {
   "cell_type": "markdown",
   "metadata": {},
   "source": [
    "The above scores are on the base of Smoting at 7% from 4.8% for minoirty class\n",
    "\n",
    "However we can try different ratios in Smote and try models on different samples.\n",
    "\n",
    "Lets try some values in Smote and run the iterations again"
   ]
  },
  {
   "cell_type": "code",
   "execution_count": 43,
   "metadata": {},
   "outputs": [
    {
     "data": {
      "text/plain": [
       "array([0.065     , 0.06928571, 0.07357143, 0.07785714, 0.08214286,\n",
       "       0.08642857, 0.09071429, 0.095     , 0.09928571, 0.10357143,\n",
       "       0.10785714, 0.11214286, 0.11642857, 0.12071429, 0.125     ])"
      ]
     },
     "execution_count": 43,
     "metadata": {},
     "output_type": "execute_result"
    }
   ],
   "source": [
    "smote_values = np.linspace(0.065, 0.125, num= 15)\n",
    "smote_values"
   ]
  },
  {
   "cell_type": "code",
   "execution_count": 91,
   "metadata": {
    "collapsed": true
   },
   "outputs": [
    {
     "name": "stderr",
     "output_type": "stream",
     "text": [
      "C:\\Users\\Python\\AppData\\Local\\Continuum\\Anaconda2\\lib\\site-packages\\sklearn\\utils\\deprecation.py:75: DeprecationWarning: Function _ratio_float is deprecated; Use a float for 'ratio' is deprecated from version 0.2. The support will be removed in 0.4. Use a dict, str, or a callable instead.\n",
      "  warnings.warn(msg, category=DeprecationWarning)\n"
     ]
    },
    {
     "name": "stdout",
     "output_type": "stream",
     "text": [
      "Loop for smote value 0.065 started at 23:31:46\n"
     ]
    },
    {
     "name": "stderr",
     "output_type": "stream",
     "text": [
      "C:\\Users\\Python\\AppData\\Local\\Continuum\\Anaconda2\\lib\\site-packages\\sklearn\\preprocessing\\label.py:151: DeprecationWarning: The truth value of an empty array is ambiguous. Returning False, but in future this will result in an error. Use `array.size > 0` to check that an array is not empty.\n",
      "  if diff:\n",
      "C:\\Users\\Python\\AppData\\Local\\Continuum\\Anaconda2\\lib\\site-packages\\sklearn\\utils\\deprecation.py:75: DeprecationWarning: Function _ratio_float is deprecated; Use a float for 'ratio' is deprecated from version 0.2. The support will be removed in 0.4. Use a dict, str, or a callable instead.\n",
      "  warnings.warn(msg, category=DeprecationWarning)\n"
     ]
    },
    {
     "name": "stdout",
     "output_type": "stream",
     "text": [
      "Loop Ended at 23:39:08\n",
      "\n",
      "\n",
      "Loop for smote value 0.0692857142857 started at 23:39:09\n"
     ]
    },
    {
     "name": "stderr",
     "output_type": "stream",
     "text": [
      "C:\\Users\\Python\\AppData\\Local\\Continuum\\Anaconda2\\lib\\site-packages\\sklearn\\preprocessing\\label.py:151: DeprecationWarning: The truth value of an empty array is ambiguous. Returning False, but in future this will result in an error. Use `array.size > 0` to check that an array is not empty.\n",
      "  if diff:\n",
      "C:\\Users\\Python\\AppData\\Local\\Continuum\\Anaconda2\\lib\\site-packages\\sklearn\\utils\\deprecation.py:75: DeprecationWarning: Function _ratio_float is deprecated; Use a float for 'ratio' is deprecated from version 0.2. The support will be removed in 0.4. Use a dict, str, or a callable instead.\n",
      "  warnings.warn(msg, category=DeprecationWarning)\n"
     ]
    },
    {
     "name": "stdout",
     "output_type": "stream",
     "text": [
      "Loop Ended at 23:47:28\n",
      "\n",
      "\n",
      "Loop for smote value 0.0735714285714 started at 23:47:29\n"
     ]
    },
    {
     "name": "stderr",
     "output_type": "stream",
     "text": [
      "C:\\Users\\Python\\AppData\\Local\\Continuum\\Anaconda2\\lib\\site-packages\\sklearn\\preprocessing\\label.py:151: DeprecationWarning: The truth value of an empty array is ambiguous. Returning False, but in future this will result in an error. Use `array.size > 0` to check that an array is not empty.\n",
      "  if diff:\n",
      "C:\\Users\\Python\\AppData\\Local\\Continuum\\Anaconda2\\lib\\site-packages\\sklearn\\utils\\deprecation.py:75: DeprecationWarning: Function _ratio_float is deprecated; Use a float for 'ratio' is deprecated from version 0.2. The support will be removed in 0.4. Use a dict, str, or a callable instead.\n",
      "  warnings.warn(msg, category=DeprecationWarning)\n"
     ]
    },
    {
     "name": "stdout",
     "output_type": "stream",
     "text": [
      "Loop Ended at 23:56:15\n",
      "\n",
      "\n",
      "Loop for smote value 0.0778571428571 started at 23:56:16\n"
     ]
    },
    {
     "name": "stderr",
     "output_type": "stream",
     "text": [
      "C:\\Users\\Python\\AppData\\Local\\Continuum\\Anaconda2\\lib\\site-packages\\sklearn\\preprocessing\\label.py:151: DeprecationWarning: The truth value of an empty array is ambiguous. Returning False, but in future this will result in an error. Use `array.size > 0` to check that an array is not empty.\n",
      "  if diff:\n",
      "C:\\Users\\Python\\AppData\\Local\\Continuum\\Anaconda2\\lib\\site-packages\\sklearn\\utils\\deprecation.py:75: DeprecationWarning: Function _ratio_float is deprecated; Use a float for 'ratio' is deprecated from version 0.2. The support will be removed in 0.4. Use a dict, str, or a callable instead.\n",
      "  warnings.warn(msg, category=DeprecationWarning)\n"
     ]
    },
    {
     "name": "stdout",
     "output_type": "stream",
     "text": [
      "Loop Ended at 00:04:49\n",
      "\n",
      "\n",
      "Loop for smote value 0.0821428571429 started at 00:04:50\n"
     ]
    },
    {
     "name": "stderr",
     "output_type": "stream",
     "text": [
      "C:\\Users\\Python\\AppData\\Local\\Continuum\\Anaconda2\\lib\\site-packages\\sklearn\\preprocessing\\label.py:151: DeprecationWarning: The truth value of an empty array is ambiguous. Returning False, but in future this will result in an error. Use `array.size > 0` to check that an array is not empty.\n",
      "  if diff:\n",
      "C:\\Users\\Python\\AppData\\Local\\Continuum\\Anaconda2\\lib\\site-packages\\sklearn\\utils\\deprecation.py:75: DeprecationWarning: Function _ratio_float is deprecated; Use a float for 'ratio' is deprecated from version 0.2. The support will be removed in 0.4. Use a dict, str, or a callable instead.\n",
      "  warnings.warn(msg, category=DeprecationWarning)\n"
     ]
    },
    {
     "name": "stdout",
     "output_type": "stream",
     "text": [
      "Loop Ended at 00:11:22\n",
      "\n",
      "\n",
      "Loop for smote value 0.0864285714286 started at 00:11:23\n"
     ]
    },
    {
     "name": "stderr",
     "output_type": "stream",
     "text": [
      "C:\\Users\\Python\\AppData\\Local\\Continuum\\Anaconda2\\lib\\site-packages\\sklearn\\preprocessing\\label.py:151: DeprecationWarning: The truth value of an empty array is ambiguous. Returning False, but in future this will result in an error. Use `array.size > 0` to check that an array is not empty.\n",
      "  if diff:\n",
      "C:\\Users\\Python\\AppData\\Local\\Continuum\\Anaconda2\\lib\\site-packages\\sklearn\\utils\\deprecation.py:75: DeprecationWarning: Function _ratio_float is deprecated; Use a float for 'ratio' is deprecated from version 0.2. The support will be removed in 0.4. Use a dict, str, or a callable instead.\n",
      "  warnings.warn(msg, category=DeprecationWarning)\n"
     ]
    },
    {
     "name": "stdout",
     "output_type": "stream",
     "text": [
      "Loop Ended at 00:22:06\n",
      "\n",
      "\n",
      "Loop for smote value 0.0907142857143 started at 00:22:07\n"
     ]
    },
    {
     "name": "stderr",
     "output_type": "stream",
     "text": [
      "C:\\Users\\Python\\AppData\\Local\\Continuum\\Anaconda2\\lib\\site-packages\\sklearn\\preprocessing\\label.py:151: DeprecationWarning: The truth value of an empty array is ambiguous. Returning False, but in future this will result in an error. Use `array.size > 0` to check that an array is not empty.\n",
      "  if diff:\n",
      "C:\\Users\\Python\\AppData\\Local\\Continuum\\Anaconda2\\lib\\site-packages\\sklearn\\utils\\deprecation.py:75: DeprecationWarning: Function _ratio_float is deprecated; Use a float for 'ratio' is deprecated from version 0.2. The support will be removed in 0.4. Use a dict, str, or a callable instead.\n",
      "  warnings.warn(msg, category=DeprecationWarning)\n"
     ]
    },
    {
     "name": "stdout",
     "output_type": "stream",
     "text": [
      "Loop Ended at 00:33:33\n",
      "\n",
      "\n",
      "Loop for smote value 0.095 started at 00:33:34\n"
     ]
    },
    {
     "name": "stderr",
     "output_type": "stream",
     "text": [
      "C:\\Users\\Python\\AppData\\Local\\Continuum\\Anaconda2\\lib\\site-packages\\sklearn\\preprocessing\\label.py:151: DeprecationWarning: The truth value of an empty array is ambiguous. Returning False, but in future this will result in an error. Use `array.size > 0` to check that an array is not empty.\n",
      "  if diff:\n",
      "C:\\Users\\Python\\AppData\\Local\\Continuum\\Anaconda2\\lib\\site-packages\\sklearn\\utils\\deprecation.py:75: DeprecationWarning: Function _ratio_float is deprecated; Use a float for 'ratio' is deprecated from version 0.2. The support will be removed in 0.4. Use a dict, str, or a callable instead.\n",
      "  warnings.warn(msg, category=DeprecationWarning)\n"
     ]
    },
    {
     "name": "stdout",
     "output_type": "stream",
     "text": [
      "Loop Ended at 00:44:55\n",
      "\n",
      "\n",
      "Loop for smote value 0.0992857142857 started at 00:44:55\n"
     ]
    },
    {
     "name": "stderr",
     "output_type": "stream",
     "text": [
      "C:\\Users\\Python\\AppData\\Local\\Continuum\\Anaconda2\\lib\\site-packages\\sklearn\\preprocessing\\label.py:151: DeprecationWarning: The truth value of an empty array is ambiguous. Returning False, but in future this will result in an error. Use `array.size > 0` to check that an array is not empty.\n",
      "  if diff:\n",
      "C:\\Users\\Python\\AppData\\Local\\Continuum\\Anaconda2\\lib\\site-packages\\sklearn\\utils\\deprecation.py:75: DeprecationWarning: Function _ratio_float is deprecated; Use a float for 'ratio' is deprecated from version 0.2. The support will be removed in 0.4. Use a dict, str, or a callable instead.\n",
      "  warnings.warn(msg, category=DeprecationWarning)\n"
     ]
    },
    {
     "name": "stdout",
     "output_type": "stream",
     "text": [
      "Loop Ended at 00:53:25\n",
      "\n",
      "\n",
      "Loop for smote value 0.103571428571 started at 00:53:26\n"
     ]
    },
    {
     "name": "stderr",
     "output_type": "stream",
     "text": [
      "C:\\Users\\Python\\AppData\\Local\\Continuum\\Anaconda2\\lib\\site-packages\\sklearn\\preprocessing\\label.py:151: DeprecationWarning: The truth value of an empty array is ambiguous. Returning False, but in future this will result in an error. Use `array.size > 0` to check that an array is not empty.\n",
      "  if diff:\n",
      "C:\\Users\\Python\\AppData\\Local\\Continuum\\Anaconda2\\lib\\site-packages\\sklearn\\utils\\deprecation.py:75: DeprecationWarning: Function _ratio_float is deprecated; Use a float for 'ratio' is deprecated from version 0.2. The support will be removed in 0.4. Use a dict, str, or a callable instead.\n",
      "  warnings.warn(msg, category=DeprecationWarning)\n"
     ]
    },
    {
     "name": "stdout",
     "output_type": "stream",
     "text": [
      "Loop Ended at 01:02:29\n",
      "\n",
      "\n",
      "Loop for smote value 0.107857142857 started at 01:02:30\n"
     ]
    },
    {
     "name": "stderr",
     "output_type": "stream",
     "text": [
      "C:\\Users\\Python\\AppData\\Local\\Continuum\\Anaconda2\\lib\\site-packages\\sklearn\\preprocessing\\label.py:151: DeprecationWarning: The truth value of an empty array is ambiguous. Returning False, but in future this will result in an error. Use `array.size > 0` to check that an array is not empty.\n",
      "  if diff:\n",
      "C:\\Users\\Python\\AppData\\Local\\Continuum\\Anaconda2\\lib\\site-packages\\sklearn\\utils\\deprecation.py:75: DeprecationWarning: Function _ratio_float is deprecated; Use a float for 'ratio' is deprecated from version 0.2. The support will be removed in 0.4. Use a dict, str, or a callable instead.\n",
      "  warnings.warn(msg, category=DeprecationWarning)\n"
     ]
    },
    {
     "name": "stdout",
     "output_type": "stream",
     "text": [
      "Loop Ended at 01:11:30\n",
      "\n",
      "\n",
      "Loop for smote value 0.112142857143 started at 01:11:30\n"
     ]
    },
    {
     "name": "stderr",
     "output_type": "stream",
     "text": [
      "C:\\Users\\Python\\AppData\\Local\\Continuum\\Anaconda2\\lib\\site-packages\\sklearn\\preprocessing\\label.py:151: DeprecationWarning: The truth value of an empty array is ambiguous. Returning False, but in future this will result in an error. Use `array.size > 0` to check that an array is not empty.\n",
      "  if diff:\n",
      "C:\\Users\\Python\\AppData\\Local\\Continuum\\Anaconda2\\lib\\site-packages\\sklearn\\utils\\deprecation.py:75: DeprecationWarning: Function _ratio_float is deprecated; Use a float for 'ratio' is deprecated from version 0.2. The support will be removed in 0.4. Use a dict, str, or a callable instead.\n",
      "  warnings.warn(msg, category=DeprecationWarning)\n"
     ]
    },
    {
     "name": "stdout",
     "output_type": "stream",
     "text": [
      "Loop Ended at 01:20:26\n",
      "\n",
      "\n",
      "Loop for smote value 0.116428571429 started at 01:20:27\n"
     ]
    },
    {
     "name": "stderr",
     "output_type": "stream",
     "text": [
      "C:\\Users\\Python\\AppData\\Local\\Continuum\\Anaconda2\\lib\\site-packages\\sklearn\\preprocessing\\label.py:151: DeprecationWarning: The truth value of an empty array is ambiguous. Returning False, but in future this will result in an error. Use `array.size > 0` to check that an array is not empty.\n",
      "  if diff:\n",
      "C:\\Users\\Python\\AppData\\Local\\Continuum\\Anaconda2\\lib\\site-packages\\sklearn\\utils\\deprecation.py:75: DeprecationWarning: Function _ratio_float is deprecated; Use a float for 'ratio' is deprecated from version 0.2. The support will be removed in 0.4. Use a dict, str, or a callable instead.\n",
      "  warnings.warn(msg, category=DeprecationWarning)\n"
     ]
    },
    {
     "name": "stdout",
     "output_type": "stream",
     "text": [
      "Loop Ended at 01:29:59\n",
      "\n",
      "\n",
      "Loop for smote value 0.120714285714 started at 01:30:00\n"
     ]
    },
    {
     "name": "stderr",
     "output_type": "stream",
     "text": [
      "C:\\Users\\Python\\AppData\\Local\\Continuum\\Anaconda2\\lib\\site-packages\\sklearn\\preprocessing\\label.py:151: DeprecationWarning: The truth value of an empty array is ambiguous. Returning False, but in future this will result in an error. Use `array.size > 0` to check that an array is not empty.\n",
      "  if diff:\n",
      "C:\\Users\\Python\\AppData\\Local\\Continuum\\Anaconda2\\lib\\site-packages\\sklearn\\utils\\deprecation.py:75: DeprecationWarning: Function _ratio_float is deprecated; Use a float for 'ratio' is deprecated from version 0.2. The support will be removed in 0.4. Use a dict, str, or a callable instead.\n",
      "  warnings.warn(msg, category=DeprecationWarning)\n"
     ]
    },
    {
     "name": "stdout",
     "output_type": "stream",
     "text": [
      "Loop Ended at 01:38:39\n",
      "\n",
      "\n",
      "Loop for smote value 0.125 started at 01:38:40\n",
      "Loop Ended at 01:46:40\n",
      "\n",
      "\n",
      "Loop took 134.906983332 mins\n"
     ]
    },
    {
     "name": "stderr",
     "output_type": "stream",
     "text": [
      "C:\\Users\\Python\\AppData\\Local\\Continuum\\Anaconda2\\lib\\site-packages\\sklearn\\preprocessing\\label.py:151: DeprecationWarning: The truth value of an empty array is ambiguous. Returning False, but in future this will result in an error. Use `array.size > 0` to check that an array is not empty.\n",
      "  if diff:\n"
     ]
    }
   ],
   "source": [
    "#Ignore the errors\n",
    "start = time.time()\n",
    "\n",
    "panel = {} # Saves key as smoting ratio and dictionary is the result of each classifier\n",
    "\n",
    "for value in smote_values:\n",
    "    sm = SMOTE(ratio=value,kind='borderline1',random_state=42)\n",
    "    X_res, Y_res = sm.fit_sample(X_train, Y_train)\n",
    "\n",
    "    print 'Loop for smote value {} started at {}'.format(value, datetime.now().strftime(\"%H:%M:%S\"))\n",
    "   \n",
    "    predictors = {} # Initializing a dictionary to store training and testing data\n",
    " \n",
    "    for model in [log_reg, svc, rf, ada, xgb]:\n",
    "        model_name = model.__class__.__name__\n",
    "        predictors[model_name]  = {}\n",
    "        predictors[model_name] =  training_predict(model, X_res, Y_res, X_val, Y_val) #Scores that is returned from trainer goes to\n",
    "    \n",
    "    panel[value] = predictors  # the respective predictor\n",
    "            \n",
    "    print 'Loop Ended at {}'.format(datetime.now().strftime(\"%H:%M:%S\"))\n",
    "    print '\\n'\n",
    "    \n",
    "print 'Loop took {} mins'.format((time.time() - start) / 60)"
   ]
  },
  {
   "cell_type": "code",
   "execution_count": 96,
   "metadata": {},
   "outputs": [],
   "source": [
    "smote_iterated_df = pd.DataFrame()\n",
    "for key in panel:\n",
    "    temp_df = pd.DataFrame(panel[key]).T\n",
    "    temp_df['Smote'] = key\n",
    "    temp_df.index.name = 'Class'\n",
    "    temp_df.reset_index(inplace= True)\n",
    "    temp_df.set_index(['Smote','Class'], inplace= True)\n",
    "    smote_iterated_df = smote_iterated_df.append(temp_df)"
   ]
  },
  {
   "cell_type": "code",
   "execution_count": 150,
   "metadata": {},
   "outputs": [
    {
     "data": {
      "text/html": [
       "<div>\n",
       "<style>\n",
       "    .dataframe thead tr:only-child th {\n",
       "        text-align: right;\n",
       "    }\n",
       "\n",
       "    .dataframe thead th {\n",
       "        text-align: left;\n",
       "    }\n",
       "\n",
       "    .dataframe tbody tr th {\n",
       "        vertical-align: top;\n",
       "    }\n",
       "</style>\n",
       "<table border=\"1\" class=\"dataframe\">\n",
       "  <thead>\n",
       "    <tr style=\"text-align: right;\">\n",
       "      <th></th>\n",
       "      <th></th>\n",
       "      <th>Accuracy_test</th>\n",
       "      <th>F1_Score_test</th>\n",
       "      <th>Precision_test</th>\n",
       "      <th>Recall_test</th>\n",
       "    </tr>\n",
       "    <tr>\n",
       "      <th>Smote</th>\n",
       "      <th>Class</th>\n",
       "      <th></th>\n",
       "      <th></th>\n",
       "      <th></th>\n",
       "      <th></th>\n",
       "    </tr>\n",
       "  </thead>\n",
       "  <tbody>\n",
       "    <tr>\n",
       "      <th rowspan=\"5\" valign=\"top\">0.107857</th>\n",
       "      <th>AdaBoostClassifier</th>\n",
       "      <td>0.948572</td>\n",
       "      <td>0.279141</td>\n",
       "      <td>0.399123</td>\n",
       "      <td>0.214623</td>\n",
       "    </tr>\n",
       "    <tr>\n",
       "      <th>LogisticRegression</th>\n",
       "      <td>0.949557</td>\n",
       "      <td>0.017058</td>\n",
       "      <td>0.088889</td>\n",
       "      <td>0.009434</td>\n",
       "    </tr>\n",
       "    <tr>\n",
       "      <th>RandomForestClassifier</th>\n",
       "      <td>0.957216</td>\n",
       "      <td>0.290381</td>\n",
       "      <td>0.629921</td>\n",
       "      <td>0.188679</td>\n",
       "    </tr>\n",
       "    <tr>\n",
       "      <th>SVC</th>\n",
       "      <td>0.950432</td>\n",
       "      <td>0.000000</td>\n",
       "      <td>0.000000</td>\n",
       "      <td>0.000000</td>\n",
       "    </tr>\n",
       "    <tr>\n",
       "      <th>XGBClassifier</th>\n",
       "      <td>0.962687</td>\n",
       "      <td>0.404887</td>\n",
       "      <td>0.778523</td>\n",
       "      <td>0.273585</td>\n",
       "    </tr>\n",
       "    <tr>\n",
       "      <th rowspan=\"5\" valign=\"top\">0.125000</th>\n",
       "      <th>AdaBoostClassifier</th>\n",
       "      <td>0.943539</td>\n",
       "      <td>0.279330</td>\n",
       "      <td>0.342466</td>\n",
       "      <td>0.235849</td>\n",
       "    </tr>\n",
       "    <tr>\n",
       "      <th>LogisticRegression</th>\n",
       "      <td>0.948572</td>\n",
       "      <td>0.016736</td>\n",
       "      <td>0.074074</td>\n",
       "      <td>0.009434</td>\n",
       "    </tr>\n",
       "    <tr>\n",
       "      <th>RandomForestClassifier</th>\n",
       "      <td>0.955575</td>\n",
       "      <td>0.297578</td>\n",
       "      <td>0.558442</td>\n",
       "      <td>0.202830</td>\n",
       "    </tr>\n",
       "    <tr>\n",
       "      <th>SVC</th>\n",
       "      <td>0.950213</td>\n",
       "      <td>0.000000</td>\n",
       "      <td>0.000000</td>\n",
       "      <td>0.000000</td>\n",
       "    </tr>\n",
       "    <tr>\n",
       "      <th>XGBClassifier</th>\n",
       "      <td>0.961046</td>\n",
       "      <td>0.400673</td>\n",
       "      <td>0.700000</td>\n",
       "      <td>0.280660</td>\n",
       "    </tr>\n",
       "    <tr>\n",
       "      <th rowspan=\"5\" valign=\"top\">0.065000</th>\n",
       "      <th>AdaBoostClassifier</th>\n",
       "      <td>0.953934</td>\n",
       "      <td>0.213084</td>\n",
       "      <td>0.513514</td>\n",
       "      <td>0.134434</td>\n",
       "    </tr>\n",
       "    <tr>\n",
       "      <th>LogisticRegression</th>\n",
       "      <td>0.946384</td>\n",
       "      <td>0.016064</td>\n",
       "      <td>0.054054</td>\n",
       "      <td>0.009434</td>\n",
       "    </tr>\n",
       "    <tr>\n",
       "      <th>RandomForestClassifier</th>\n",
       "      <td>0.958311</td>\n",
       "      <td>0.265896</td>\n",
       "      <td>0.726316</td>\n",
       "      <td>0.162736</td>\n",
       "    </tr>\n",
       "    <tr>\n",
       "      <th>SVC</th>\n",
       "      <td>0.950870</td>\n",
       "      <td>0.000000</td>\n",
       "      <td>0.000000</td>\n",
       "      <td>0.000000</td>\n",
       "    </tr>\n",
       "    <tr>\n",
       "      <th>XGBClassifier</th>\n",
       "      <td>0.961484</td>\n",
       "      <td>0.333333</td>\n",
       "      <td>0.846154</td>\n",
       "      <td>0.207547</td>\n",
       "    </tr>\n",
       "  </tbody>\n",
       "</table>\n",
       "</div>"
      ],
      "text/plain": [
       "                                 Accuracy_test  F1_Score_test  Precision_test  \\\n",
       "Smote    Class                                                                  \n",
       "0.107857 AdaBoostClassifier           0.948572       0.279141        0.399123   \n",
       "         LogisticRegression           0.949557       0.017058        0.088889   \n",
       "         RandomForestClassifier       0.957216       0.290381        0.629921   \n",
       "         SVC                          0.950432       0.000000        0.000000   \n",
       "         XGBClassifier                0.962687       0.404887        0.778523   \n",
       "0.125000 AdaBoostClassifier           0.943539       0.279330        0.342466   \n",
       "         LogisticRegression           0.948572       0.016736        0.074074   \n",
       "         RandomForestClassifier       0.955575       0.297578        0.558442   \n",
       "         SVC                          0.950213       0.000000        0.000000   \n",
       "         XGBClassifier                0.961046       0.400673        0.700000   \n",
       "0.065000 AdaBoostClassifier           0.953934       0.213084        0.513514   \n",
       "         LogisticRegression           0.946384       0.016064        0.054054   \n",
       "         RandomForestClassifier       0.958311       0.265896        0.726316   \n",
       "         SVC                          0.950870       0.000000        0.000000   \n",
       "         XGBClassifier                0.961484       0.333333        0.846154   \n",
       "\n",
       "                                 Recall_test  \n",
       "Smote    Class                                \n",
       "0.107857 AdaBoostClassifier         0.214623  \n",
       "         LogisticRegression         0.009434  \n",
       "         RandomForestClassifier     0.188679  \n",
       "         SVC                        0.000000  \n",
       "         XGBClassifier              0.273585  \n",
       "0.125000 AdaBoostClassifier         0.235849  \n",
       "         LogisticRegression         0.009434  \n",
       "         RandomForestClassifier     0.202830  \n",
       "         SVC                        0.000000  \n",
       "         XGBClassifier              0.280660  \n",
       "0.065000 AdaBoostClassifier         0.134434  \n",
       "         LogisticRegression         0.009434  \n",
       "         RandomForestClassifier     0.162736  \n",
       "         SVC                        0.000000  \n",
       "         XGBClassifier              0.207547  "
      ]
     },
     "execution_count": 150,
     "metadata": {},
     "output_type": "execute_result"
    }
   ],
   "source": [
    "smote_iterated_df.head(15)"
   ]
  },
  {
   "cell_type": "markdown",
   "metadata": {},
   "source": [
    "Recall Score is what we are interested in. Recall shows our model's ability to predict Positive as Positive. Since our Data is highly imbalance, it is difficult for any model to get a better recall. Sometime models ignores the minority class\n"
   ]
  },
  {
   "cell_type": "code",
   "execution_count": 153,
   "metadata": {},
   "outputs": [
    {
     "data": {
      "text/plain": [
       "Smote     Class        \n",
       "0.112143  XGBClassifier    0.294811\n",
       "0.120714  XGBClassifier    0.283019\n",
       "0.125000  XGBClassifier    0.280660\n",
       "0.107857  XGBClassifier    0.273585\n",
       "0.116429  XGBClassifier    0.268868\n",
       "Name: Recall_test, dtype: float64"
      ]
     },
     "execution_count": 153,
     "metadata": {},
     "output_type": "execute_result"
    }
   ],
   "source": [
    "# Lets rearrange Recall_test score in descending order\n",
    "smote_iterated_df['Recall_test'].sort_values(ascending = False).head(5)"
   ]
  },
  {
   "cell_type": "code",
   "execution_count": 103,
   "metadata": {},
   "outputs": [
    {
     "data": {
      "text/plain": [
       "(0.11214285714285716, 'XGBClassifier')"
      ]
     },
     "execution_count": 103,
     "metadata": {},
     "output_type": "execute_result"
    }
   ],
   "source": [
    "smote_iterated_df['Recall_test'].idxmax() # Finding the Smote_Ratio and Class for the largest Recall Score"
   ]
  },
  {
   "cell_type": "code",
   "execution_count": null,
   "metadata": {},
   "outputs": [],
   "source": [
    "smote_iterated_df.to_csv('Smote_iteration.csv', sep=',')"
   ]
  },
  {
   "cell_type": "markdown",
   "metadata": {},
   "source": [
    "Summary - \n",
    "1. XgBoost is a clear Winner\n",
    "2. At a smote ratio of 0.11214, Recall was highest\n",
    "\n",
    "#### So we will move forward with XGboost and smote ratio of 0.11214 and hyper paramenter tuning"
   ]
  },
  {
   "cell_type": "markdown",
   "metadata": {},
   "source": [
    "### PreTune and Post Tune"
   ]
  },
  {
   "cell_type": "code",
   "execution_count": 105,
   "metadata": {},
   "outputs": [
    {
     "name": "stderr",
     "output_type": "stream",
     "text": [
      "C:\\Users\\Python\\AppData\\Local\\Continuum\\Anaconda2\\lib\\site-packages\\sklearn\\utils\\deprecation.py:75: DeprecationWarning: Function _ratio_float is deprecated; Use a float for 'ratio' is deprecated from version 0.2. The support will be removed in 0.4. Use a dict, str, or a callable instead.\n",
      "  warnings.warn(msg, category=DeprecationWarning)\n"
     ]
    },
    {
     "name": "stdout",
     "output_type": "stream",
     "text": [
      "(28996L, 33L)\n",
      "(28996L,)\n",
      "\n",
      "\n",
      "(9139L, 33L)\n",
      "(9139L,)\n"
     ]
    }
   ],
   "source": [
    "# Ignore Error\n",
    "sm = SMOTE(ratio=0.11214,kind='borderline1',random_state=42)\n",
    "X_res, Y_res = sm.fit_sample(X_train, Y_train)\n",
    "\n",
    "print X_res.shape\n",
    "print Y_res.shape\n",
    "print '\\n'\n",
    "print X_val.shape\n",
    "print Y_val.shape"
   ]
  },
  {
   "cell_type": "markdown",
   "metadata": {},
   "source": [
    "### PreTune with default parameters"
   ]
  },
  {
   "cell_type": "code",
   "execution_count": 106,
   "metadata": {},
   "outputs": [],
   "source": [
    "clf_pre_tune = XGBClassifier(max_depth= 3 , n_estimators= 100, min_child_weight= 1, reg_lambda= 1) # Default Paramters"
   ]
  },
  {
   "cell_type": "code",
   "execution_count": 108,
   "metadata": {},
   "outputs": [
    {
     "name": "stdout",
     "output_type": "stream",
     "text": [
      "F1 Accuracy : 0.418760469012\n",
      "Precision Score: 0.722543352601\n",
      "Recall Score: 0.294811320755\n"
     ]
    },
    {
     "name": "stderr",
     "output_type": "stream",
     "text": [
      "C:\\Users\\Python\\AppData\\Local\\Continuum\\Anaconda2\\lib\\site-packages\\sklearn\\preprocessing\\label.py:151: DeprecationWarning: The truth value of an empty array is ambiguous. Returning False, but in future this will result in an error. Use `array.size > 0` to check that an array is not empty.\n",
      "  if diff:\n"
     ]
    }
   ],
   "source": [
    "# Ignore error\n",
    "clf_pre_tune.fit(X_res, Y_res)\n",
    "Y_pred = clf_pre_tune.predict(X_val)\n",
    "\n",
    "print 'F1 Accuracy : {}'.format(f1_score(Y_val,Y_pred))\n",
    "print 'Precision Score: {}'.format(precision_score(Y_val,Y_pred))\n",
    "print 'Recall Score: {}'.format(recall_score(Y_val,Y_pred))"
   ]
  },
  {
   "cell_type": "markdown",
   "metadata": {},
   "source": [
    "### Tuning"
   ]
  },
  {
   "cell_type": "code",
   "execution_count": 109,
   "metadata": {},
   "outputs": [],
   "source": [
    "clf_tune = XGBClassifier(n_estimators= 300, n_jobs= -1)\n",
    "parameters = {'max_depth': range(5),\n",
    "              'min_child_weight':[1,2,3,4,5], \n",
    "              'reg_lambda': [0.50,0.75,1,1.25,1.5]} "
   ]
  },
  {
   "cell_type": "code",
   "execution_count": 110,
   "metadata": {},
   "outputs": [],
   "source": [
    "grid = GridSearchCV(clf_tune, param_grid = parameters, n_jobs= -1, cv = 5 )"
   ]
  },
  {
   "cell_type": "code",
   "execution_count": 111,
   "metadata": {},
   "outputs": [
    {
     "data": {
      "text/plain": [
       "GridSearchCV(cv=5, error_score='raise',\n",
       "       estimator=XGBClassifier(base_score=0.5, booster='gbtree', colsample_bylevel=1,\n",
       "       colsample_bytree=1, gamma=0, learning_rate=0.1, max_delta_step=0,\n",
       "       max_depth=3, min_child_weight=1, missing=None, n_estimators=300,\n",
       "       n_jobs=-1, nthread=None, objective='binary:logistic',\n",
       "       random_state=0, reg_alpha=0, reg_lambda=1, scale_pos_weight=1,\n",
       "       seed=None, silent=True, subsample=1),\n",
       "       fit_params=None, iid=True, n_jobs=-1,\n",
       "       param_grid={'reg_lambda': [0.5, 0.75, 1, 1.25, 1.5], 'max_depth': [0, 1, 2, 3, 4], 'min_child_weight': [1, 2, 3, 4, 5]},\n",
       "       pre_dispatch='2*n_jobs', refit=True, return_train_score=True,\n",
       "       scoring=None, verbose=0)"
      ]
     },
     "execution_count": 111,
     "metadata": {},
     "output_type": "execute_result"
    }
   ],
   "source": [
    "grid.fit(X_res, Y_res)"
   ]
  },
  {
   "cell_type": "code",
   "execution_count": 112,
   "metadata": {},
   "outputs": [
    {
     "name": "stdout",
     "output_type": "stream",
     "text": [
      "Best parameters: {'reg_lambda': 0.5, 'max_depth': 4, 'min_child_weight': 3}\n"
     ]
    }
   ],
   "source": [
    "print 'Best parameters: {}'.format(grid.best_params_)"
   ]
  },
  {
   "cell_type": "code",
   "execution_count": 113,
   "metadata": {},
   "outputs": [
    {
     "name": "stderr",
     "output_type": "stream",
     "text": [
      "C:\\Users\\Python\\AppData\\Local\\Continuum\\Anaconda2\\lib\\site-packages\\sklearn\\preprocessing\\label.py:151: DeprecationWarning: The truth value of an empty array is ambiguous. Returning False, but in future this will result in an error. Use `array.size > 0` to check that an array is not empty.\n",
      "  if diff:\n"
     ]
    }
   ],
   "source": [
    "# Ignore error\n",
    "Y_pred_grid = grid.predict(X_val)"
   ]
  },
  {
   "cell_type": "code",
   "execution_count": 114,
   "metadata": {},
   "outputs": [
    {
     "data": {
      "text/plain": [
       "0.6005917159763313"
      ]
     },
     "execution_count": 114,
     "metadata": {},
     "output_type": "execute_result"
    }
   ],
   "source": [
    "f1_score(Y_val, Y_pred_grid)"
   ]
  },
  {
   "cell_type": "markdown",
   "metadata": {},
   "source": [
    "### PostTune"
   ]
  },
  {
   "cell_type": "code",
   "execution_count": 119,
   "metadata": {},
   "outputs": [],
   "source": [
    "# Optimal Parameters\n",
    "MAX_DEPTH = grid.best_params_['max_depth']\n",
    "MIN_CHILD_WEIGHT = grid.best_params_['min_child_weight']\n",
    "REG_LAMDBA = grid.best_params_['reg_lambda']"
   ]
  },
  {
   "cell_type": "code",
   "execution_count": 121,
   "metadata": {},
   "outputs": [],
   "source": [
    "clf_post_tune = XGBClassifier(max_depth= MAX_DEPTH , n_estimators= 500, \n",
    "                              min_child_weight= MIN_CHILD_WEIGHT, reg_lambda= REG_LAMDBA)"
   ]
  },
  {
   "cell_type": "code",
   "execution_count": 122,
   "metadata": {},
   "outputs": [
    {
     "name": "stdout",
     "output_type": "stream",
     "text": [
      "Post_tune F1 Accuracy : 0.62962962963\n",
      "Post_tune Precision Score: 0.794964028777\n",
      "Post_tune Recall Score: 0.521226415094\n"
     ]
    },
    {
     "name": "stderr",
     "output_type": "stream",
     "text": [
      "C:\\Users\\Python\\AppData\\Local\\Continuum\\Anaconda2\\lib\\site-packages\\sklearn\\preprocessing\\label.py:151: DeprecationWarning: The truth value of an empty array is ambiguous. Returning False, but in future this will result in an error. Use `array.size > 0` to check that an array is not empty.\n",
      "  if diff:\n"
     ]
    }
   ],
   "source": [
    "# Ignore error\n",
    "clf_post_tune.fit(X_res, Y_res)\n",
    "Y_pred = clf_post_tune.predict(X_val)\n",
    "\n",
    "print 'Post_tune F1 Accuracy : {}'.format(f1_score(Y_val,Y_pred))\n",
    "print 'Post_tune Precision Score: {}'.format(precision_score(Y_val,Y_pred))\n",
    "print 'Post_tune Recall Score: {}'.format(recall_score(Y_val,Y_pred))"
   ]
  },
  {
   "cell_type": "code",
   "execution_count": null,
   "metadata": {},
   "outputs": [],
   "source": []
  },
  {
   "cell_type": "markdown",
   "metadata": {},
   "source": [
    "### Great! Almost there"
   ]
  },
  {
   "cell_type": "code",
   "execution_count": 115,
   "metadata": {},
   "outputs": [],
   "source": [
    "# Lets test on the real test data which we have held out for this moment"
   ]
  },
  {
   "cell_type": "code",
   "execution_count": 123,
   "metadata": {},
   "outputs": [
    {
     "data": {
      "text/html": [
       "<div>\n",
       "<style>\n",
       "    .dataframe thead tr:only-child th {\n",
       "        text-align: right;\n",
       "    }\n",
       "\n",
       "    .dataframe thead th {\n",
       "        text-align: left;\n",
       "    }\n",
       "\n",
       "    .dataframe tbody tr th {\n",
       "        vertical-align: top;\n",
       "    }\n",
       "</style>\n",
       "<table border=\"1\" class=\"dataframe\">\n",
       "  <thead>\n",
       "    <tr style=\"text-align: right;\">\n",
       "      <th></th>\n",
       "      <th>Attr1</th>\n",
       "      <th>Attr2</th>\n",
       "      <th>Attr3</th>\n",
       "      <th>Attr4</th>\n",
       "      <th>Attr5</th>\n",
       "      <th>Attr6</th>\n",
       "      <th>Attr7</th>\n",
       "      <th>Attr8</th>\n",
       "      <th>Attr9</th>\n",
       "      <th>Attr10</th>\n",
       "      <th>...</th>\n",
       "      <th>Attr55</th>\n",
       "      <th>Attr56</th>\n",
       "      <th>Attr57</th>\n",
       "      <th>Attr58</th>\n",
       "      <th>Attr59</th>\n",
       "      <th>Attr60</th>\n",
       "      <th>Attr61</th>\n",
       "      <th>Attr62</th>\n",
       "      <th>Attr63</th>\n",
       "      <th>Attr64</th>\n",
       "    </tr>\n",
       "    <tr>\n",
       "      <th>ID</th>\n",
       "      <th></th>\n",
       "      <th></th>\n",
       "      <th></th>\n",
       "      <th></th>\n",
       "      <th></th>\n",
       "      <th></th>\n",
       "      <th></th>\n",
       "      <th></th>\n",
       "      <th></th>\n",
       "      <th></th>\n",
       "      <th></th>\n",
       "      <th></th>\n",
       "      <th></th>\n",
       "      <th></th>\n",
       "      <th></th>\n",
       "      <th></th>\n",
       "      <th></th>\n",
       "      <th></th>\n",
       "      <th></th>\n",
       "      <th></th>\n",
       "      <th></th>\n",
       "    </tr>\n",
       "  </thead>\n",
       "  <tbody>\n",
       "    <tr>\n",
       "      <th>36554</th>\n",
       "      <td>0.200550</td>\n",
       "      <td>0.37951</td>\n",
       "      <td>0.396410</td>\n",
       "      <td>2.04720</td>\n",
       "      <td>32.351</td>\n",
       "      <td>0.388250</td>\n",
       "      <td>0.249760</td>\n",
       "      <td>1.330500</td>\n",
       "      <td>1.13890</td>\n",
       "      <td>0.504940</td>\n",
       "      <td>...</td>\n",
       "      <td>348690.0000</td>\n",
       "      <td>0.121960</td>\n",
       "      <td>0.397180</td>\n",
       "      <td>0.87804</td>\n",
       "      <td>0.001924</td>\n",
       "      <td>8.4160</td>\n",
       "      <td>5.1372</td>\n",
       "      <td>82.658</td>\n",
       "      <td>4.4158</td>\n",
       "      <td>7.4277</td>\n",
       "    </tr>\n",
       "    <tr>\n",
       "      <th>36555</th>\n",
       "      <td>0.009020</td>\n",
       "      <td>0.63202</td>\n",
       "      <td>0.053735</td>\n",
       "      <td>1.12630</td>\n",
       "      <td>-37.842</td>\n",
       "      <td>0.000000</td>\n",
       "      <td>0.014434</td>\n",
       "      <td>0.582230</td>\n",
       "      <td>1.33320</td>\n",
       "      <td>0.367980</td>\n",
       "      <td>...</td>\n",
       "      <td>1.1263</td>\n",
       "      <td>0.180110</td>\n",
       "      <td>0.024512</td>\n",
       "      <td>0.84165</td>\n",
       "      <td>0.340940</td>\n",
       "      <td>9.9665</td>\n",
       "      <td>4.2382</td>\n",
       "      <td>116.500</td>\n",
       "      <td>3.1330</td>\n",
       "      <td>2.5603</td>\n",
       "    </tr>\n",
       "    <tr>\n",
       "      <th>36556</th>\n",
       "      <td>0.124080</td>\n",
       "      <td>0.83837</td>\n",
       "      <td>0.142040</td>\n",
       "      <td>1.16940</td>\n",
       "      <td>-91.883</td>\n",
       "      <td>0.000000</td>\n",
       "      <td>0.153280</td>\n",
       "      <td>0.192790</td>\n",
       "      <td>2.11560</td>\n",
       "      <td>0.161630</td>\n",
       "      <td>...</td>\n",
       "      <td>989.4100</td>\n",
       "      <td>0.079665</td>\n",
       "      <td>0.767680</td>\n",
       "      <td>0.92847</td>\n",
       "      <td>0.000000</td>\n",
       "      <td>3.3192</td>\n",
       "      <td>6.4994</td>\n",
       "      <td>144.630</td>\n",
       "      <td>2.5236</td>\n",
       "      <td>107.6700</td>\n",
       "    </tr>\n",
       "    <tr>\n",
       "      <th>36557</th>\n",
       "      <td>0.203930</td>\n",
       "      <td>0.56037</td>\n",
       "      <td>0.134950</td>\n",
       "      <td>1.24080</td>\n",
       "      <td>3.158</td>\n",
       "      <td>0.000000</td>\n",
       "      <td>0.242910</td>\n",
       "      <td>0.784520</td>\n",
       "      <td>2.27060</td>\n",
       "      <td>0.439630</td>\n",
       "      <td>...</td>\n",
       "      <td>711.8500</td>\n",
       "      <td>0.107700</td>\n",
       "      <td>0.463860</td>\n",
       "      <td>0.89419</td>\n",
       "      <td>0.000000</td>\n",
       "      <td>24.9790</td>\n",
       "      <td>10.7670</td>\n",
       "      <td>90.080</td>\n",
       "      <td>4.0519</td>\n",
       "      <td>7.4525</td>\n",
       "    </tr>\n",
       "    <tr>\n",
       "      <th>36558</th>\n",
       "      <td>-0.054623</td>\n",
       "      <td>0.92857</td>\n",
       "      <td>-0.026927</td>\n",
       "      <td>0.94263</td>\n",
       "      <td>-87.724</td>\n",
       "      <td>-0.054623</td>\n",
       "      <td>-0.054623</td>\n",
       "      <td>0.074796</td>\n",
       "      <td>0.92301</td>\n",
       "      <td>0.069453</td>\n",
       "      <td>...</td>\n",
       "      <td>-1693.2000</td>\n",
       "      <td>-0.083417</td>\n",
       "      <td>-0.786480</td>\n",
       "      <td>1.08340</td>\n",
       "      <td>6.611400</td>\n",
       "      <td>4.7055</td>\n",
       "      <td>3.1662</td>\n",
       "      <td>226.760</td>\n",
       "      <td>1.6096</td>\n",
       "      <td>1.3551</td>\n",
       "    </tr>\n",
       "  </tbody>\n",
       "</table>\n",
       "<p>5 rows × 64 columns</p>\n",
       "</div>"
      ],
      "text/plain": [
       "          Attr1    Attr2     Attr3    Attr4   Attr5     Attr6     Attr7  \\\n",
       "ID                                                                        \n",
       "36554  0.200550  0.37951  0.396410  2.04720  32.351  0.388250  0.249760   \n",
       "36555  0.009020  0.63202  0.053735  1.12630 -37.842  0.000000  0.014434   \n",
       "36556  0.124080  0.83837  0.142040  1.16940 -91.883  0.000000  0.153280   \n",
       "36557  0.203930  0.56037  0.134950  1.24080   3.158  0.000000  0.242910   \n",
       "36558 -0.054623  0.92857 -0.026927  0.94263 -87.724 -0.054623 -0.054623   \n",
       "\n",
       "          Attr8    Attr9    Attr10    ...          Attr55    Attr56    Attr57  \\\n",
       "ID                                    ...                                       \n",
       "36554  1.330500  1.13890  0.504940    ...     348690.0000  0.121960  0.397180   \n",
       "36555  0.582230  1.33320  0.367980    ...          1.1263  0.180110  0.024512   \n",
       "36556  0.192790  2.11560  0.161630    ...        989.4100  0.079665  0.767680   \n",
       "36557  0.784520  2.27060  0.439630    ...        711.8500  0.107700  0.463860   \n",
       "36558  0.074796  0.92301  0.069453    ...      -1693.2000 -0.083417 -0.786480   \n",
       "\n",
       "        Attr58    Attr59   Attr60   Attr61   Attr62  Attr63    Attr64  \n",
       "ID                                                                     \n",
       "36554  0.87804  0.001924   8.4160   5.1372   82.658  4.4158    7.4277  \n",
       "36555  0.84165  0.340940   9.9665   4.2382  116.500  3.1330    2.5603  \n",
       "36556  0.92847  0.000000   3.3192   6.4994  144.630  2.5236  107.6700  \n",
       "36557  0.89419  0.000000  24.9790  10.7670   90.080  4.0519    7.4525  \n",
       "36558  1.08340  6.611400   4.7055   3.1662  226.760  1.6096    1.3551  \n",
       "\n",
       "[5 rows x 64 columns]"
      ]
     },
     "execution_count": 123,
     "metadata": {},
     "output_type": "execute_result"
    }
   ],
   "source": [
    "X_test_df = pd.read_csv('test.csv')\n",
    "X_test_df.set_index('ID', inplace = True)\n",
    "X_test_df.head()"
   ]
  },
  {
   "cell_type": "code",
   "execution_count": 124,
   "metadata": {},
   "outputs": [
    {
     "data": {
      "text/plain": [
       "<matplotlib.axes._subplots.AxesSubplot at 0x33f32f28>"
      ]
     },
     "execution_count": 124,
     "metadata": {},
     "output_type": "execute_result"
    },
    {
     "data": {
      "text/plain": [
       "<Figure size 1152x432 with 0 Axes>"
      ]
     },
     "metadata": {},
     "output_type": "display_data"
    },
    {
     "data": {
      "image/png": "[encoded data removed]",
      "text/plain": [
       "<Figure size 1800x720 with 2 Axes>"
      ]
     },
     "metadata": {},
     "output_type": "display_data"
    }
   ],
   "source": [
    "# Plotting NA values\n",
    "plt.figure(figsize=(16,6))\n",
    "msno.matrix(X_test_df, labels = True, color=(0.20,0.15,0.45))"
   ]
  },
  {
   "cell_type": "markdown",
   "metadata": {},
   "source": [
    "#### Imputation"
   ]
  },
  {
   "cell_type": "code",
   "execution_count": 125,
   "metadata": {},
   "outputs": [
    {
     "data": {
      "text/plain": [
       "5850L"
      ]
     },
     "execution_count": 125,
     "metadata": {},
     "output_type": "execute_result"
    }
   ],
   "source": [
    "X_test_df.isnull().sum().sum() #Checking total number of missing values"
   ]
  },
  {
   "cell_type": "code",
   "execution_count": 126,
   "metadata": {},
   "outputs": [],
   "source": [
    "X_test_df = X_test_df.replace({0:np.nan}) #Replacing 0 with NA values"
   ]
  },
  {
   "cell_type": "code",
   "execution_count": 127,
   "metadata": {},
   "outputs": [
    {
     "data": {
      "text/plain": [
       "14350L"
      ]
     },
     "execution_count": 127,
     "metadata": {},
     "output_type": "execute_result"
    }
   ],
   "source": [
    "X_test_df.isnull().sum().sum() # This shows previous missing values and the new Zeros added"
   ]
  },
  {
   "cell_type": "code",
   "execution_count": 128,
   "metadata": {},
   "outputs": [],
   "source": [
    "X_test_df = X_test_df.fillna(X_df.median()) # Imputing Null values with train set Median"
   ]
  },
  {
   "cell_type": "code",
   "execution_count": 129,
   "metadata": {},
   "outputs": [
    {
     "data": {
      "text/plain": [
       "2391L"
      ]
     },
     "execution_count": 129,
     "metadata": {},
     "output_type": "execute_result"
    }
   ],
   "source": [
    "X_test_df.isnull().sum().sum()"
   ]
  },
  {
   "cell_type": "code",
   "execution_count": 131,
   "metadata": {},
   "outputs": [],
   "source": [
    "# The values that are null are in the columns which we are going to drop to match the number dimensions \n",
    "# of the training set"
   ]
  },
  {
   "cell_type": "code",
   "execution_count": 132,
   "metadata": {},
   "outputs": [
    {
     "data": {
      "text/plain": [
       "<matplotlib.axes._subplots.AxesSubplot at 0x296bd320>"
      ]
     },
     "execution_count": 132,
     "metadata": {},
     "output_type": "execute_result"
    },
    {
     "data": {
      "text/plain": [
       "<Figure size 1152x432 with 0 Axes>"
      ]
     },
     "metadata": {},
     "output_type": "display_data"
    },
    {
     "data": {
      "image/png": "[encoded data removed]",
      "text/plain": [
       "<Figure size 1800x720 with 2 Axes>"
      ]
     },
     "metadata": {},
     "output_type": "display_data"
    }
   ],
   "source": [
    "#Rechecking missing values after Imputation\n",
    "plt.figure(figsize=(16,6))\n",
    "msno.matrix(X_test_df, labels = True, color=(0.20,0.15,0.45))"
   ]
  },
  {
   "cell_type": "markdown",
   "metadata": {},
   "source": [
    "#### Dropping columns to bring test data in same dimension to train model. We will use the same cols_to_be_dropped list which has irrelevant columns"
   ]
  },
  {
   "cell_type": "code",
   "execution_count": 134,
   "metadata": {},
   "outputs": [
    {
     "name": "stdout",
     "output_type": "stream",
     "text": [
      "['Attr38', 'Attr10', 'Attr9', 'Attr24', 'Attr22', 'Attr11', 'Attr36', 'Attr35', 'Attr48', 'Attr64', 'Attr14', 'Attr34', 'Attr7', 'Attr18', 'Attr33', 'Attr63', 'Attr42', 'Attr20', 'Attr44', 'Attr43', 'Attr58', 'Attr13', 'Attr25', 'Attr17', 'Attr19', 'Attr31', 'Attr8', 'Attr23', 'Attr30', 'Attr16', 'Attr62']\n"
     ]
    }
   ],
   "source": [
    "print cols_to_be_dropped"
   ]
  },
  {
   "cell_type": "code",
   "execution_count": 135,
   "metadata": {},
   "outputs": [],
   "source": [
    "X_test_df.drop(cols_to_be_dropped, axis = 1 , inplace = True)"
   ]
  },
  {
   "cell_type": "code",
   "execution_count": 136,
   "metadata": {},
   "outputs": [
    {
     "data": {
      "text/plain": [
       "0L"
      ]
     },
     "execution_count": 136,
     "metadata": {},
     "output_type": "execute_result"
    }
   ],
   "source": [
    "# Rechecking the NA values\n",
    "X_test_df.isnull().sum().sum()"
   ]
  },
  {
   "cell_type": "code",
   "execution_count": 137,
   "metadata": {},
   "outputs": [],
   "source": [
    "X_test = X_test_df.values"
   ]
  },
  {
   "cell_type": "code",
   "execution_count": 138,
   "metadata": {},
   "outputs": [
    {
     "name": "stdout",
     "output_type": "stream",
     "text": [
      "(6451L, 33L)\n"
     ]
    }
   ],
   "source": [
    "print X_test.shape"
   ]
  },
  {
   "cell_type": "code",
   "execution_count": 139,
   "metadata": {},
   "outputs": [],
   "source": [
    "# Our test data ready to be tested"
   ]
  },
  {
   "cell_type": "code",
   "execution_count": 140,
   "metadata": {},
   "outputs": [
    {
     "name": "stderr",
     "output_type": "stream",
     "text": [
      "C:\\Users\\Python\\AppData\\Local\\Continuum\\Anaconda2\\lib\\site-packages\\sklearn\\preprocessing\\label.py:151: DeprecationWarning: The truth value of an empty array is ambiguous. Returning False, but in future this will result in an error. Use `array.size > 0` to check that an array is not empty.\n",
      "  if diff:\n"
     ]
    }
   ],
   "source": [
    "# Ignore error\n",
    "Y_test_pred = clf_post_tune.predict(X_test)"
   ]
  },
  {
   "cell_type": "markdown",
   "metadata": {},
   "source": [
    "#### Writing result to CSV file"
   ]
  },
  {
   "cell_type": "code",
   "execution_count": 143,
   "metadata": {},
   "outputs": [],
   "source": [
    "test_result = pd.DataFrame(Y_test_pred, index = X_test_df.index, columns = ['prediction'])"
   ]
  },
  {
   "cell_type": "code",
   "execution_count": 146,
   "metadata": {},
   "outputs": [],
   "source": [
    "test_result.to_csv('test_Result_XGB.csv', sep=',')"
   ]
  },
  {
   "cell_type": "code",
   "execution_count": 148,
   "metadata": {},
   "outputs": [],
   "source": [
    "# f1 accuracy on test set was 64.71%\n",
    "# Precision Score was 85.94%\n",
    "# Recall Score was 51.89%"
   ]
  },
  {
   "cell_type": "code",
   "execution_count": null,
   "metadata": {},
   "outputs": [],
   "source": []
  }
 ],
 "metadata": {
  "kernelspec": {
   "display_name": "Python 2",
   "language": "python",
   "name": "python2"
  },
  "language_info": {
   "codemirror_mode": {
    "name": "ipython",
    "version": 2
   },
   "file_extension": ".py",
   "mimetype": "text/x-python",
   "name": "python",
   "nbconvert_exporter": "python",
   "pygments_lexer": "ipython2",
   "version": "2.7.13"
  }
 },
 "nbformat": 4,
 "nbformat_minor": 2
}
